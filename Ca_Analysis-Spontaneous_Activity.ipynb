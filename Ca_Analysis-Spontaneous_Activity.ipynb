{
 "cells": [
  {
   "cell_type": "markdown",
   "id": "bc02d2a0",
   "metadata": {},
   "source": [
    "1. Load all the necessary libraries"
   ]
  },
  {
   "cell_type": "code",
   "execution_count": 7,
   "id": "0e3822cc",
   "metadata": {},
   "outputs": [],
   "source": [
    "import Ca_open_data\n",
    "import Ca_plot_data\n",
    "import Ca_event_detection\n",
    "import Ca_population_metrics\n",
    "from Ca_open_data import *\n",
    "from Ca_plot_data import *\n",
    "from Ca_event_detection import *\n",
    "from Ca_population_metrics import *"
   ]
  },
  {
   "cell_type": "markdown",
   "id": "966627ea",
   "metadata": {},
   "source": [
    "2. Open the traces and align with accelerometer"
   ]
  },
  {
   "cell_type": "code",
   "execution_count": 8,
   "id": "0cf1ee3f",
   "metadata": {},
   "outputs": [
    {
     "ename": "FileNotFoundError",
     "evalue": "No such file: 'C:\\Users\\daniil.berezhnoi.VAI\\Desktop\\Current Experiments\\Ca Imaging\\1279-1\\Ca Imaging\\Cell_trac_map.tif'",
     "output_type": "error",
     "traceback": [
      "\u001b[1;31m---------------------------------------------------------------------------\u001b[0m",
      "\u001b[1;31mFileNotFoundError\u001b[0m                         Traceback (most recent call last)",
      "Cell \u001b[1;32mIn[8], line 9\u001b[0m\n\u001b[0;32m      5\u001b[0m accel_file \u001b[38;5;241m=\u001b[39m \u001b[38;5;124m'\u001b[39m\u001b[38;5;124mncb1279-1-accelerometer.csv\u001b[39m\u001b[38;5;124m'\u001b[39m\n\u001b[0;32m      6\u001b[0m gpio_file \u001b[38;5;241m=\u001b[39m \u001b[38;5;124m'\u001b[39m\u001b[38;5;124mncb1279-GPIO.csv\u001b[39m\u001b[38;5;124m'\u001b[39m\n\u001b[1;32m----> 9\u001b[0m Ca_df, Ca_cells, Ca, image \u001b[38;5;241m=\u001b[39m \u001b[43mopen_traces\u001b[49m\u001b[43m(\u001b[49m\u001b[43mdirectory\u001b[49m\u001b[43m,\u001b[49m\u001b[43m \u001b[49m\u001b[43mfile\u001b[49m\u001b[43m)\u001b[49m\n\u001b[0;32m     10\u001b[0m accel,ori\u001b[38;5;241m=\u001b[39m open_accel(directory, accel_file)\n\u001b[0;32m     11\u001b[0m Flir_Frames, Insc_FramesTrigger_Frames, TriggerOff_Frames \u001b[38;5;241m=\u001b[39m open_gpio(directory, gpio_file)\n",
      "File \u001b[1;32m~\\Videos\\3d plot - manual assembly\\testing Ca\\Ca_open_data.py:32\u001b[0m, in \u001b[0;36mopen_traces\u001b[1;34m(directory, file)\u001b[0m\n\u001b[0;32m     30\u001b[0m Ca_df\u001b[38;5;241m=\u001b[39mpd\u001b[38;5;241m.\u001b[39mread_csv(directory\u001b[38;5;241m+\u001b[39mfile, header\u001b[38;5;241m=\u001b[39m\u001b[38;5;241m1\u001b[39m, sep\u001b[38;5;241m=\u001b[39m\u001b[38;5;124m'\u001b[39m\u001b[38;5;124m, \u001b[39m\u001b[38;5;124m'\u001b[39m, dtype\u001b[38;5;241m=\u001b[39mnp\u001b[38;5;241m.\u001b[39mfloat32, engine\u001b[38;5;241m=\u001b[39m\u001b[38;5;124m'\u001b[39m\u001b[38;5;124mpython\u001b[39m\u001b[38;5;124m'\u001b[39m)\n\u001b[0;32m     31\u001b[0m Ca_cells\u001b[38;5;241m=\u001b[39mpd\u001b[38;5;241m.\u001b[39mread_csv(directory\u001b[38;5;241m+\u001b[39mfile[:\u001b[38;5;241m-\u001b[39m\u001b[38;5;241m4\u001b[39m]\u001b[38;5;241m+\u001b[39m\u001b[38;5;124m'\u001b[39m\u001b[38;5;124m-props.csv\u001b[39m\u001b[38;5;124m'\u001b[39m, header\u001b[38;5;241m=\u001b[39m\u001b[38;5;241m0\u001b[39m, sep\u001b[38;5;241m=\u001b[39m\u001b[38;5;124m'\u001b[39m\u001b[38;5;124m,\u001b[39m\u001b[38;5;124m'\u001b[39m, engine\u001b[38;5;241m=\u001b[39m\u001b[38;5;124m'\u001b[39m\u001b[38;5;124mpython\u001b[39m\u001b[38;5;124m'\u001b[39m)\n\u001b[1;32m---> 32\u001b[0m image \u001b[38;5;241m=\u001b[39m \u001b[43mimageio\u001b[49m\u001b[38;5;241;43m.\u001b[39;49m\u001b[43mimread\u001b[49m\u001b[43m(\u001b[49m\u001b[43mdirectory\u001b[49m\u001b[43m \u001b[49m\u001b[38;5;241;43m+\u001b[39;49m\u001b[43m \u001b[49m\u001b[43mfile\u001b[49m\u001b[43m[\u001b[49m\u001b[43m:\u001b[49m\u001b[38;5;241;43m-\u001b[39;49m\u001b[38;5;241;43m11\u001b[39;49m\u001b[43m]\u001b[49m\u001b[38;5;241;43m+\u001b[39;49m\u001b[38;5;124;43m'\u001b[39;49m\u001b[38;5;124;43m_map.tif\u001b[39;49m\u001b[38;5;124;43m'\u001b[39;49m\u001b[43m)\u001b[49m\n\u001b[0;32m     34\u001b[0m Ca_cells \u001b[38;5;241m=\u001b[39m Ca_cells\u001b[38;5;241m.\u001b[39mloc[Ca_cells[\u001b[38;5;124m'\u001b[39m\u001b[38;5;124mStatus\u001b[39m\u001b[38;5;124m'\u001b[39m]\u001b[38;5;241m==\u001b[39m\u001b[38;5;124m'\u001b[39m\u001b[38;5;124maccepted\u001b[39m\u001b[38;5;124m'\u001b[39m]\n\u001b[0;32m     35\u001b[0m Ca_cells\u001b[38;5;241m.\u001b[39mdrop(columns\u001b[38;5;241m=\u001b[39m[\u001b[38;5;124m'\u001b[39m\u001b[38;5;124mName\u001b[39m\u001b[38;5;124m'\u001b[39m,\u001b[38;5;124m'\u001b[39m\u001b[38;5;124mStatus\u001b[39m\u001b[38;5;124m'\u001b[39m,\u001b[38;5;124m'\u001b[39m\u001b[38;5;124mNumComponents\u001b[39m\u001b[38;5;124m'\u001b[39m,\u001b[38;5;124m'\u001b[39m\u001b[38;5;124mSize\u001b[39m\u001b[38;5;124m'\u001b[39m,\u001b[38;5;124m'\u001b[39m\u001b[38;5;124mActiveSegment0\u001b[39m\u001b[38;5;124m'\u001b[39m], inplace\u001b[38;5;241m=\u001b[39m\u001b[38;5;28;01mTrue\u001b[39;00m)\n",
      "File \u001b[1;32mC:\\ProgramData\\Anaconda3\\envs\\caiman\\lib\\site-packages\\imageio\\__init__.py:97\u001b[0m, in \u001b[0;36mimread\u001b[1;34m(uri, format, **kwargs)\u001b[0m\n\u001b[0;32m     68\u001b[0m \u001b[38;5;250m\u001b[39m\u001b[38;5;124;03m\"\"\"imread(uri, format=None, **kwargs)\u001b[39;00m\n\u001b[0;32m     69\u001b[0m \n\u001b[0;32m     70\u001b[0m \u001b[38;5;124;03mReads an image from the specified file. Returns a numpy array, which\u001b[39;00m\n\u001b[1;32m   (...)\u001b[0m\n\u001b[0;32m     86\u001b[0m \u001b[38;5;124;03m    to see what arguments are available for a particular format.\u001b[39;00m\n\u001b[0;32m     87\u001b[0m \u001b[38;5;124;03m\"\"\"\u001b[39;00m\n\u001b[0;32m     89\u001b[0m warnings\u001b[38;5;241m.\u001b[39mwarn(\n\u001b[0;32m     90\u001b[0m     \u001b[38;5;124m\"\u001b[39m\u001b[38;5;124mStarting with ImageIO v3 the behavior of this function will switch to that of\u001b[39m\u001b[38;5;124m\"\u001b[39m\n\u001b[0;32m     91\u001b[0m     \u001b[38;5;124m\"\u001b[39m\u001b[38;5;124m iio.v3.imread. To keep the current behavior (and make this warning disappear)\u001b[39m\u001b[38;5;124m\"\u001b[39m\n\u001b[1;32m   (...)\u001b[0m\n\u001b[0;32m     94\u001b[0m     stacklevel\u001b[38;5;241m=\u001b[39m\u001b[38;5;241m2\u001b[39m,\n\u001b[0;32m     95\u001b[0m )\n\u001b[1;32m---> 97\u001b[0m \u001b[38;5;28;01mreturn\u001b[39;00m \u001b[43mimread_v2\u001b[49m\u001b[43m(\u001b[49m\u001b[43muri\u001b[49m\u001b[43m,\u001b[49m\u001b[43m \u001b[49m\u001b[38;5;28;43mformat\u001b[39;49m\u001b[38;5;241;43m=\u001b[39;49m\u001b[38;5;28;43mformat\u001b[39;49m\u001b[43m,\u001b[49m\u001b[43m \u001b[49m\u001b[38;5;241;43m*\u001b[39;49m\u001b[38;5;241;43m*\u001b[39;49m\u001b[43mkwargs\u001b[49m\u001b[43m)\u001b[49m\n",
      "File \u001b[1;32mC:\\ProgramData\\Anaconda3\\envs\\caiman\\lib\\site-packages\\imageio\\v2.py:226\u001b[0m, in \u001b[0;36mimread\u001b[1;34m(uri, format, **kwargs)\u001b[0m\n\u001b[0;32m    223\u001b[0m imopen_args \u001b[38;5;241m=\u001b[39m decypher_format_arg(\u001b[38;5;28mformat\u001b[39m)\n\u001b[0;32m    224\u001b[0m imopen_args[\u001b[38;5;124m\"\u001b[39m\u001b[38;5;124mlegacy_mode\u001b[39m\u001b[38;5;124m\"\u001b[39m] \u001b[38;5;241m=\u001b[39m \u001b[38;5;28;01mTrue\u001b[39;00m\n\u001b[1;32m--> 226\u001b[0m \u001b[38;5;28;01mwith\u001b[39;00m \u001b[43mimopen\u001b[49m\u001b[43m(\u001b[49m\u001b[43muri\u001b[49m\u001b[43m,\u001b[49m\u001b[43m \u001b[49m\u001b[38;5;124;43m\"\u001b[39;49m\u001b[38;5;124;43mri\u001b[39;49m\u001b[38;5;124;43m\"\u001b[39;49m\u001b[43m,\u001b[49m\u001b[43m \u001b[49m\u001b[38;5;241;43m*\u001b[39;49m\u001b[38;5;241;43m*\u001b[39;49m\u001b[43mimopen_args\u001b[49m\u001b[43m)\u001b[49m \u001b[38;5;28;01mas\u001b[39;00m file:\n\u001b[0;32m    227\u001b[0m     result \u001b[38;5;241m=\u001b[39m file\u001b[38;5;241m.\u001b[39mread(index\u001b[38;5;241m=\u001b[39m\u001b[38;5;241m0\u001b[39m, \u001b[38;5;241m*\u001b[39m\u001b[38;5;241m*\u001b[39mkwargs)\n\u001b[0;32m    229\u001b[0m \u001b[38;5;28;01mreturn\u001b[39;00m result\n",
      "File \u001b[1;32mC:\\ProgramData\\Anaconda3\\envs\\caiman\\lib\\site-packages\\imageio\\core\\imopen.py:113\u001b[0m, in \u001b[0;36mimopen\u001b[1;34m(uri, io_mode, plugin, extension, format_hint, legacy_mode, **kwargs)\u001b[0m\n\u001b[0;32m    111\u001b[0m     request\u001b[38;5;241m.\u001b[39mformat_hint \u001b[38;5;241m=\u001b[39m format_hint\n\u001b[0;32m    112\u001b[0m \u001b[38;5;28;01melse\u001b[39;00m:\n\u001b[1;32m--> 113\u001b[0m     request \u001b[38;5;241m=\u001b[39m \u001b[43mRequest\u001b[49m\u001b[43m(\u001b[49m\u001b[43muri\u001b[49m\u001b[43m,\u001b[49m\u001b[43m \u001b[49m\u001b[43mio_mode\u001b[49m\u001b[43m,\u001b[49m\u001b[43m \u001b[49m\u001b[43mformat_hint\u001b[49m\u001b[38;5;241;43m=\u001b[39;49m\u001b[43mformat_hint\u001b[49m\u001b[43m,\u001b[49m\u001b[43m \u001b[49m\u001b[43mextension\u001b[49m\u001b[38;5;241;43m=\u001b[39;49m\u001b[43mextension\u001b[49m\u001b[43m)\u001b[49m\n\u001b[0;32m    115\u001b[0m source \u001b[38;5;241m=\u001b[39m \u001b[38;5;124m\"\u001b[39m\u001b[38;5;124m<bytes>\u001b[39m\u001b[38;5;124m\"\u001b[39m \u001b[38;5;28;01mif\u001b[39;00m \u001b[38;5;28misinstance\u001b[39m(uri, \u001b[38;5;28mbytes\u001b[39m) \u001b[38;5;28;01melse\u001b[39;00m uri\n\u001b[0;32m    117\u001b[0m \u001b[38;5;66;03m# fast-path based on plugin\u001b[39;00m\n\u001b[0;32m    118\u001b[0m \u001b[38;5;66;03m# (except in legacy mode)\u001b[39;00m\n",
      "File \u001b[1;32mC:\\ProgramData\\Anaconda3\\envs\\caiman\\lib\\site-packages\\imageio\\core\\request.py:248\u001b[0m, in \u001b[0;36mRequest.__init__\u001b[1;34m(self, uri, mode, extension, format_hint, **kwargs)\u001b[0m\n\u001b[0;32m    245\u001b[0m     \u001b[38;5;28;01mraise\u001b[39;00m \u001b[38;5;167;01mValueError\u001b[39;00m(\u001b[38;5;124mf\u001b[39m\u001b[38;5;124m\"\u001b[39m\u001b[38;5;124mInvalid Request.Mode: \u001b[39m\u001b[38;5;132;01m{\u001b[39;00mmode\u001b[38;5;132;01m}\u001b[39;00m\u001b[38;5;124m\"\u001b[39m)\n\u001b[0;32m    247\u001b[0m \u001b[38;5;66;03m# Parse what was given\u001b[39;00m\n\u001b[1;32m--> 248\u001b[0m \u001b[38;5;28;43mself\u001b[39;49m\u001b[38;5;241;43m.\u001b[39;49m\u001b[43m_parse_uri\u001b[49m\u001b[43m(\u001b[49m\u001b[43muri\u001b[49m\u001b[43m)\u001b[49m\n\u001b[0;32m    250\u001b[0m \u001b[38;5;66;03m# Set extension\u001b[39;00m\n\u001b[0;32m    251\u001b[0m \u001b[38;5;28;01mif\u001b[39;00m extension \u001b[38;5;129;01mis\u001b[39;00m \u001b[38;5;129;01mnot\u001b[39;00m \u001b[38;5;28;01mNone\u001b[39;00m:\n",
      "File \u001b[1;32mC:\\ProgramData\\Anaconda3\\envs\\caiman\\lib\\site-packages\\imageio\\core\\request.py:408\u001b[0m, in \u001b[0;36mRequest._parse_uri\u001b[1;34m(self, uri)\u001b[0m\n\u001b[0;32m    405\u001b[0m \u001b[38;5;28;01mif\u001b[39;00m is_read_request:\n\u001b[0;32m    406\u001b[0m     \u001b[38;5;66;03m# Reading: check that the file exists (but is allowed a dir)\u001b[39;00m\n\u001b[0;32m    407\u001b[0m     \u001b[38;5;28;01mif\u001b[39;00m \u001b[38;5;129;01mnot\u001b[39;00m os\u001b[38;5;241m.\u001b[39mpath\u001b[38;5;241m.\u001b[39mexists(fn):\n\u001b[1;32m--> 408\u001b[0m         \u001b[38;5;28;01mraise\u001b[39;00m \u001b[38;5;167;01mFileNotFoundError\u001b[39;00m(\u001b[38;5;124m\"\u001b[39m\u001b[38;5;124mNo such file: \u001b[39m\u001b[38;5;124m'\u001b[39m\u001b[38;5;132;01m%s\u001b[39;00m\u001b[38;5;124m'\u001b[39m\u001b[38;5;124m\"\u001b[39m \u001b[38;5;241m%\u001b[39m fn)\n\u001b[0;32m    409\u001b[0m \u001b[38;5;28;01melse\u001b[39;00m:\n\u001b[0;32m    410\u001b[0m     \u001b[38;5;66;03m# Writing: check that the directory to write to does exist\u001b[39;00m\n\u001b[0;32m    411\u001b[0m     dn \u001b[38;5;241m=\u001b[39m os\u001b[38;5;241m.\u001b[39mpath\u001b[38;5;241m.\u001b[39mdirname(fn)\n",
      "\u001b[1;31mFileNotFoundError\u001b[0m: No such file: 'C:\\Users\\daniil.berezhnoi.VAI\\Desktop\\Current Experiments\\Ca Imaging\\1279-1\\Ca Imaging\\Cell_trac_map.tif'"
     ]
    }
   ],
   "source": [
    "#Open the traces\n",
    "\n",
    "directory = 'C:/Users/daniil.berezhnoi.VAI/Desktop/Current Experiments/Ca Imaging/1279-1/Ca Imaging/'\n",
    "file = 'Cell_traces_1279.csv'\n",
    "accel_file = 'ncb1279-1-accelerometer.csv'\n",
    "gpio_file = 'ncb1279-GPIO.csv'\n",
    "\n",
    "\n",
    "Ca_df, Ca_cells, Ca, image = open_traces(directory, file)\n",
    "accel,ori= open_accel(directory, accel_file)\n",
    "Flir_Frames, Insc_FramesTrigger_Frames, TriggerOff_Frames = open_gpio(directory, gpio_file)\n",
    "\n",
    "#Need to see the number of frames in Ca-video to stretch accelerometer data\n",
    "Insc_Frames.tail(20)\n"
   ]
  },
  {
   "cell_type": "code",
   "execution_count": null,
   "id": "97d289cb",
   "metadata": {},
   "outputs": [],
   "source": [
    "#Stretching the accel data\n",
    "\n",
    "accel=stretch1d(accel,52568)\n",
    "ori=stretch1d(ori,52568)\n"
   ]
  },
  {
   "cell_type": "markdown",
   "id": "0d654b24",
   "metadata": {},
   "source": [
    "3. Split the traces based on cell types and Normalize the traces"
   ]
  },
  {
   "cell_type": "code",
   "execution_count": null,
   "id": "b6fed68c",
   "metadata": {},
   "outputs": [],
   "source": [
    "Ca_IT, Ca_PTall, Ca_PT = split_cellset(Ca, Ca_cells)\n",
    "Ca_IT_filter = filter_data(Ca_IT)\n",
    "Ca_IT_max = max_score_data(Ca_IT_filter)\n",
    "Ca_IT_z = z_score_data(Ca_IT_filter)\n",
    "\n",
    "Ca_PT_filter  = filter_data(Ca_PT)\n",
    "Ca_PT_max = max_score_data(Ca_PT_filter)\n",
    "Ca_PT_z = z_score_data(Ca_PT_filter)\n",
    "\n",
    "Ca_PTall_filter  = filter_data(Ca_PTall)\n",
    "Ca_PTall_max = max_score_data(Ca_PTall_filter)\n",
    "Ca_PTall_z = z_score_data(Ca_PTall_filter)\n"
   ]
  },
  {
   "cell_type": "markdown",
   "id": "20a7cf61",
   "metadata": {},
   "source": [
    "4. Plot the signal along with the accelerometer"
   ]
  },
  {
   "cell_type": "code",
   "execution_count": null,
   "id": "31677a4d",
   "metadata": {},
   "outputs": [],
   "source": [
    "raw_plot_accel(Ca_PT_max, accel, ori)\n",
    "raw_plot_accel(Ca_IT_max, accel, ori)\n",
    "raw_plot_accel(Ca_PTall_max, accel, ori)"
   ]
  },
  {
   "cell_type": "markdown",
   "id": "04fafdec",
   "metadata": {},
   "source": [
    "5. Detect the events"
   ]
  },
  {
   "cell_type": "code",
   "execution_count": null,
   "id": "686a7bb9",
   "metadata": {},
   "outputs": [],
   "source": [
    "PT_events = detect_events(Ca_PT_filter)\n",
    "IT_events = detect_events(Ca_IT_filter)\n",
    "PTall_events = detect_events(Ca_PTall_filter)\n"
   ]
  },
  {
   "cell_type": "markdown",
   "id": "03834d71",
   "metadata": {},
   "source": [
    "6.Plot the parameters for the spikes"
   ]
  },
  {
   "cell_type": "code",
   "execution_count": null,
   "id": "ee05a61c",
   "metadata": {},
   "outputs": [],
   "source": [
    "spike_parameters(PT_events)\n",
    "spike_parameters(IT_events)\n",
    "spike_parameters(PTall_events)"
   ]
  },
  {
   "cell_type": "markdown",
   "id": "4d1c0703",
   "metadata": {},
   "source": [
    "7. Compare two groups of neurons"
   ]
  },
  {
   "cell_type": "code",
   "execution_count": null,
   "id": "678e5220",
   "metadata": {},
   "outputs": [],
   "source": [
    "plot_scatterbox(PT_events[0],IT_events[0], yaxis='Events per minute')\n",
    "plot_scatterbox(PT_events[9],IT_events[9], plot='mean',  yaxis='Area under the curve')\n"
   ]
  },
  {
   "cell_type": "markdown",
   "id": "8075f610",
   "metadata": {},
   "source": [
    "8. Calculate the correlations and plot them"
   ]
  },
  {
   "cell_type": "code",
   "execution_count": null,
   "id": "f8c48717",
   "metadata": {},
   "outputs": [],
   "source": [
    "PT_correl=compute_asymmetric(PT_events[10])\n",
    "IT_correl=compute_asymmetric(IT_events[10])\n",
    "PTall_correl=compute_asymmetric(PTall_events[10])\n",
    "\n",
    "plot_correlation(PT_correl, diagonal=False)\n",
    "plot_correlation(IT_correl, diagonal=False)"
   ]
  },
  {
   "cell_type": "markdown",
   "id": "4ab296f7",
   "metadata": {},
   "source": [
    "9. Compare two groups of neurons"
   ]
  },
  {
   "cell_type": "code",
   "execution_count": null,
   "id": "4a4fba7c",
   "metadata": {},
   "outputs": [],
   "source": [
    "plot_scatterbox(PT_correl,IT_correl, plot='mean',  yaxis='Asymmetric correlation')\n"
   ]
  }
 ],
 "metadata": {
  "kernelspec": {
   "display_name": "Python [conda env:caiman]",
   "language": "python",
   "name": "conda-env-caiman-py"
  },
  "language_info": {
   "codemirror_mode": {
    "name": "ipython",
    "version": 3
   },
   "file_extension": ".py",
   "mimetype": "text/x-python",
   "name": "python",
   "nbconvert_exporter": "python",
   "pygments_lexer": "ipython3",
   "version": "3.8.16"
  }
 },
 "nbformat": 4,
 "nbformat_minor": 5
}
